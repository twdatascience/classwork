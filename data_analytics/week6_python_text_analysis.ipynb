{
 "cells": [
  {
   "cell_type": "markdown",
   "metadata": {},
   "source": [
    "# Text Analysis of Two Alexandre Dumas Novels"
   ]
  },
  {
   "cell_type": "markdown",
   "metadata": {},
   "source": [
    "For this project I chose to compare \"The Count of Monte Cristo\" and \"The Man in the Iron Mask\" by Alexandre Dumas. I chose two books by the same autor because I was interested to see if there would be unusual words that were in both books. I expected that many common words would be the same and names would be different, but I hoped there would be a few more unusual words that were present in both books."
   ]
  },
  {
   "cell_type": "markdown",
   "metadata": {},
   "source": [
    "First I set up the Python environment to be very similar to the exercises."
   ]
  },
  {
   "cell_type": "code",
   "execution_count": 2,
   "metadata": {},
   "outputs": [],
   "source": [
    "import operator\n",
    "import string\n",
    "import re\n",
    "from collections import defaultdict\n",
    "from nltk.corpus import stopwords"
   ]
  },
  {
   "cell_type": "code",
   "execution_count": 4,
   "metadata": {},
   "outputs": [],
   "source": [
    "filepath = 'C:\\\\Users\\\\Meso\\\\Documents\\\\GitHub\\\\classwork\\\\data_analytics\\\\'\n",
    "monte_cristo = open(filepath + 'cleaned_monte_cristo.txt', 'rb')"
   ]
  },
  {
   "cell_type": "markdown",
   "metadata": {},
   "source": [
    "I started first with \"The Count of Monte Cristo\" using the file handle 'monte_cristo'. I was not interested in stopwords, so I set it up to exclude them right away."
   ]
  },
  {
   "cell_type": "code",
   "execution_count": 5,
   "metadata": {},
   "outputs": [],
   "source": [
    "monte_words = defaultdict(int)\n",
    "punc = string.punctuation\n",
    "stops = stopwords.words('english')\n",
    "stops = set(stops)"
   ]
  },
  {
   "cell_type": "markdown",
   "metadata": {},
   "source": [
    "I found that some stopwords still got through because a quotation mark was left on the front end of the word. I used regular expressions to fix the few words I found."
   ]
  },
  {
   "cell_type": "code",
   "execution_count": 6,
   "metadata": {},
   "outputs": [
    {
     "name": "stdout",
     "output_type": "stream",
     "text": [
      "Number of distinct words:  23772\n"
     ]
    }
   ],
   "source": [
    "for line in monte_cristo:\n",
    "    cln_line = re.sub('[' + punc + ']', '', line.decode('utf-8'))\n",
    "    cln_line = cln_line.lower()\n",
    "    spl_line = cln_line.strip().split()\n",
    "    for word in spl_line:\n",
    "        word = re.sub('\\Wi', 'i', word)\n",
    "        word = re.sub('\\Wyou|you\\W', 'you', word)\n",
    "        word = re.sub('\\Wand', 'and', word)\n",
    "        word = re.sub('\\Wwhat', 'what', word)\n",
    "        word = re.sub('\\Wthat', 'that', word)\n",
    "        word = re.sub('\\Wthe', 'the', word)\n",
    "        word = re.sub('\\Woh', 'oh', word)\n",
    "        word = re.sub('\\Wyes', 'yes', word)\n",
    "        word = re.sub('me\\W', 'me', word)\n",
    "        word = re.sub('\\Wbut', 'but', word)\n",
    "        if word in stops: continue\n",
    "        monte_words.setdefault(word, 0)\n",
    "        monte_words[word] += 1\n",
    "sorted_cristo = sorted(monte_words.items(), key = operator.itemgetter(1), reverse = True)\n",
    "print('Number of distinct words: ', len(sorted_cristo))"
   ]
  },
  {
   "cell_type": "markdown",
   "metadata": {},
   "source": [
    "I then moved on to \"The Man in the Iron Mask\"."
   ]
  },
  {
   "cell_type": "code",
   "execution_count": 7,
   "metadata": {},
   "outputs": [],
   "source": [
    "iron_mask = open(filepath + 'cleaned_iron_mask.txt', 'rb')\n",
    "iron_words = defaultdict(int)"
   ]
  },
  {
   "cell_type": "code",
   "execution_count": 8,
   "metadata": {},
   "outputs": [
    {
     "name": "stdout",
     "output_type": "stream",
     "text": [
      "Number of distinct words:  13260\n"
     ]
    }
   ],
   "source": [
    "for line in iron_mask:\n",
    "    cln_line = re.sub('[' + punc + ']', '', line.decode('utf-8'))\n",
    "    cln_line = cln_line.lower()\n",
    "    spl_line = cln_line.strip().split()\n",
    "    for word in spl_line:\n",
    "        word = re.sub('\\Wi', 'i', word)\n",
    "        word = re.sub('\\Wyou|you\\W', 'you', word)\n",
    "        word = re.sub('\\Wand', 'and', word)\n",
    "        word = re.sub('\\Wwhat', 'what', word)\n",
    "        word = re.sub('\\Wthat', 'that', word)\n",
    "        word = re.sub('\\Wthe', 'the', word)\n",
    "        word = re.sub('\\Woh', 'oh', word)\n",
    "        word = re.sub('\\Wyes', 'yes', word)\n",
    "        word = re.sub('me\\W', 'me', word)\n",
    "        word = re.sub('\\Wbut', 'but', word)\n",
    "        if word in stops: continue\n",
    "        iron_words.setdefault(word, 0)\n",
    "        iron_words[word] += 1\n",
    "sorted_iron = sorted(iron_words.items(), key = operator.itemgetter(1), reverse = True)\n",
    "print('Number of distinct words: ', len(sorted_iron))"
   ]
  },
  {
   "cell_type": "markdown",
   "metadata": {},
   "source": [
    "To compare the top words in each book I wrote an input statement so I could easily change the number of top words I would look at."
   ]
  },
  {
   "cell_type": "code",
   "execution_count": 9,
   "metadata": {},
   "outputs": [
    {
     "name": "stdout",
     "output_type": "stream",
     "text": [
      "Enter the top number of words you would like to view: 10\n",
      "Top 10 words in The Man in the Iron Mask:\n",
      "('said', 1258)\n",
      "('king', 783)\n",
      "('d’artagnan', 747)\n",
      "('aramis', 640)\n",
      "('fouquet', 540)\n",
      "('one', 531)\n",
      "('man', 420)\n",
      "('would', 417)\n",
      "('porthos', 386)\n",
      "('upon', 367)\n",
      "Top 10 words in The Count of Monte Cristo:\n",
      "('said', 3459)\n",
      "('one', 1364)\n",
      "('man', 1235)\n",
      "('count', 1216)\n",
      "('would', 1197)\n",
      "('monte', 1127)\n",
      "('cristo', 1041)\n",
      "('de', 1025)\n",
      "('villefort', 922)\n",
      "('danglars', 811)\n"
     ]
    }
   ],
   "source": [
    "top_num = int(input('Enter the top number of words you would like to view: '))\n",
    "print('Top %s words in The Man in the Iron Mask:' % top_num)\n",
    "for pair in range(top_num):\n",
    "    print(sorted_iron[pair])\n",
    "print('Top %s words in The Count of Monte Cristo:' % top_num)\n",
    "for pair in range(top_num):\n",
    "    print(sorted_cristo[pair])"
   ]
  },
  {
   "cell_type": "markdown",
   "metadata": {},
   "source": [
    "To better compare the words, I looked at the top words in a book and filtered them based on if they were in the other book."
   ]
  },
  {
   "cell_type": "code",
   "execution_count": 10,
   "metadata": {},
   "outputs": [
    {
     "name": "stdout",
     "output_type": "stream",
     "text": [
      "Words in the top 10 of The Man in the Iron Mask that are also anywhere in The Count of Monte Cristo:\n",
      "said\n",
      "king\n",
      "one\n",
      "man\n",
      "would\n",
      "upon\n"
     ]
    }
   ],
   "source": [
    "print('Words in the top %s of The Man in the Iron Mask that are also anywhere in The Count of Monte Cristo:' % top_num)\n",
    "for num in range(top_num):\n",
    "    if sorted_iron[num][0] in monte_words.keys():\n",
    "        print(sorted_iron[num][0])"
   ]
  },
  {
   "cell_type": "code",
   "execution_count": 11,
   "metadata": {},
   "outputs": [
    {
     "name": "stdout",
     "output_type": "stream",
     "text": [
      "Words in the top 10 of The Count of Monte Cristo that are also anywhere in The Man in the Iron Mask:\n",
      "said\n",
      "one\n",
      "man\n",
      "count\n",
      "would\n",
      "de\n"
     ]
    }
   ],
   "source": [
    "print('Words in the top %s of The Count of Monte Cristo that are also anywhere in The Man in the Iron Mask:' % top_num)\n",
    "for num in range(top_num):\n",
    "    if sorted_cristo[num][0] in iron_words.keys():\n",
    "        print(sorted_cristo[num][0])"
   ]
  },
  {
   "cell_type": "markdown",
   "metadata": {},
   "source": [
    "To see more what the comarison of top words used was I created new dictionaries of the top 50 words of each book."
   ]
  },
  {
   "cell_type": "code",
   "execution_count": 12,
   "metadata": {},
   "outputs": [],
   "source": [
    "iron_top_50 = {}\n",
    "for num in range(50):\n",
    "    iron_top_50[sorted_iron[num][0]] = sorted_iron[num][1]\n",
    "cristo_top_50 = {}\n",
    "for num in range(50):\n",
    "    cristo_top_50[sorted_cristo[num][0]] = sorted_iron[num][1] "
   ]
  },
  {
   "cell_type": "code",
   "execution_count": 13,
   "metadata": {},
   "outputs": [
    {
     "name": "stdout",
     "output_type": "stream",
     "text": [
      "Top words of The Man in the Iron Mask that are also top words of The Count of Monte Cristo:\n",
      "said\n",
      "one\n",
      "man\n",
      "would\n",
      "upon\n",
      "Top words of The Count of Monte Cristo that are also top words of The Man in the Iron Mask:\n",
      "said\n",
      "one\n",
      "man\n",
      "would\n",
      "de\n"
     ]
    }
   ],
   "source": [
    "print('Top words of The Man in the Iron Mask that are also top words of The Count of Monte Cristo:')\n",
    "for num in range(top_num):\n",
    "    if sorted_iron[num][0] in cristo_top_50.keys():\n",
    "        print(sorted_iron[num][0])\n",
    "print('Top words of The Count of Monte Cristo that are also top words of The Man in the Iron Mask:')\n",
    "for num in range(top_num):\n",
    "    if sorted_cristo[num][0] in iron_top_50.keys():\n",
    "        print(sorted_cristo[num][0])"
   ]
  },
  {
   "cell_type": "markdown",
   "metadata": {},
   "source": [
    "This showed that both books probably contain a lot of dialog with 'said' being the top word for each book. With 'one' and 'man' being on both lists it can be speculated that individual actors have a large presence in both books. It is interesting that by looking at the top words of both books, the words 'king' and 'count' are removed. This shows the difference in subjects of the two books. "
   ]
  }
 ],
 "metadata": {
  "kernelspec": {
   "display_name": "Python 3",
   "language": "python",
   "name": "python3"
  },
  "language_info": {
   "codemirror_mode": {
    "name": "ipython",
    "version": 3
   },
   "file_extension": ".py",
   "mimetype": "text/x-python",
   "name": "python",
   "nbconvert_exporter": "python",
   "pygments_lexer": "ipython3",
   "version": "3.7.3"
  }
 },
 "nbformat": 4,
 "nbformat_minor": 2
}
